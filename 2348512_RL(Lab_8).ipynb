{
  "nbformat": 4,
  "nbformat_minor": 0,
  "metadata": {
    "colab": {
      "provenance": [],
      "authorship_tag": "ABX9TyMKSlHRNtPvq9HG30hzkCbc",
      "include_colab_link": true
    },
    "kernelspec": {
      "name": "python3",
      "display_name": "Python 3"
    },
    "language_info": {
      "name": "python"
    }
  },
  "cells": [
    {
      "cell_type": "markdown",
      "metadata": {
        "id": "view-in-github",
        "colab_type": "text"
      },
      "source": [
        "<a href=\"https://colab.research.google.com/github/dandamudi-geeta/Reinforcement-Learning/blob/main/2348512_RL(Lab_8).ipynb\" target=\"_parent\"><img src=\"https://colab.research.google.com/assets/colab-badge.svg\" alt=\"Open In Colab\"/></a>"
      ]
    },
    {
      "cell_type": "code",
      "execution_count": 1,
      "metadata": {
        "id": "aso-pZjk17B7"
      },
      "outputs": [],
      "source": [
        "import numpy as np\n",
        "import random"
      ]
    },
    {
      "cell_type": "code",
      "source": [
        "class GridWorld:\n",
        "    \"\"\"\n",
        "    Simple 1D grid world with 5 states.\n",
        "    The agent can move left (-1) or right (+1).\n",
        "    Rewards:\n",
        "    - Goal state (5): +1 reward\n",
        "    - Start state (1): 0 reward\n",
        "    - Other states: 0 reward\n",
        "    \"\"\"\n",
        "    def __init__(self):\n",
        "        self.states = [1, 2, 3, 4, 5]\n",
        "        self.start_state = 1\n",
        "        self.goal_state = 5\n",
        "        self.current_state = self.start_state\n",
        "\n",
        "    def reset(self):\n",
        "        self.current_state = self.start_state\n",
        "        return self.current_state\n",
        "\n",
        "    def step(self, action):\n",
        "        \"\"\"\n",
        "        Takes an action and updates the state.\n",
        "        Args:\n",
        "            action (int): -1 (left) or +1 (right)\n",
        "        Returns:\n",
        "            next_state (int): The updated state.\n",
        "            reward (float): Reward received.\n",
        "            done (bool): Whether the episode is complete.\n",
        "        \"\"\"\n",
        "        if action not in [-1, 1]:\n",
        "            raise ValueError(\"Invalid action. Choose -1 (left) or +1 (right).\")\n",
        "\n",
        "        # Update state\n",
        "        self.current_state += action\n",
        "        self.current_state = max(self.states[0], min(self.current_state, self.states[-1]))\n",
        "\n",
        "        # Check if the agent reached the goal state\n",
        "        if self.current_state == self.goal_state:\n",
        "            return self.current_state, 1, True\n",
        "        else:\n",
        "            return self.current_state, 0, False"
      ],
      "metadata": {
        "id": "eKppM4jw3KoW"
      },
      "execution_count": 32,
      "outputs": []
    },
    {
      "cell_type": "code",
      "source": [
        "# TD(0) Algorithm\n",
        "def td_zero(env, alpha=0.1, gamma=0.9, episodes=100):\n",
        "    \"\"\"\n",
        "    Temporal Difference (TD) 0 Algorithm.\n",
        "    Args:\n",
        "        env (GridWorld): The environment.\n",
        "        alpha (float): Learning rate.\n",
        "        gamma (float): Discount factor.\n",
        "        episodes (int): Number of episodes to train.\n",
        "\n",
        "    Returns:\n",
        "        V (dict): The value function for all states.\n",
        "    \"\"\""
      ],
      "metadata": {
        "id": "I3hrv13v3Kqn"
      },
      "execution_count": 33,
      "outputs": []
    },
    {
      "cell_type": "code",
      "source": [
        "# Instantiate the environment\n",
        "env = GridWorld()"
      ],
      "metadata": {
        "id": "P5ehsXkR3iWP"
      },
      "execution_count": 34,
      "outputs": []
    },
    {
      "cell_type": "code",
      "source": [
        "episodes = 500\n",
        "alpha = 0.1\n",
        "gamma = 0.9"
      ],
      "metadata": {
        "id": "0z6Air7B38Zf"
      },
      "execution_count": 35,
      "outputs": []
    },
    {
      "cell_type": "code",
      "source": [
        "# TD(0) Algorithm\n",
        "def td_zero(env, alpha=0.1, gamma=0.9, episodes=100):\n",
        "    \"\"\"\n",
        "    Temporal Difference (TD) 0 Algorithm.\n",
        "    Args:\n",
        "        env (GridWorld): The environment.\n",
        "        alpha (float): Learning rate.\n",
        "        gamma (float): Discount factor.\n",
        "        episodes (int): Number of episodes to train.\n",
        "\n",
        "    Returns:\n",
        "        V (dict): The value function for all states.\n",
        "    \"\"\"\n",
        "    # Initialize the value function for each state\n",
        "    V = {state: 0.0 for state in env.states}\n",
        "\n",
        "    for episode in range(episodes):  # Ensure `episodes` is passed correctly\n",
        "        state = env.reset()\n",
        "        done = False\n",
        "\n",
        "        while not done:\n",
        "            # Choose a random action\n",
        "            action = random.choice([-1, 1])\n",
        "\n",
        "            # Take a step in the environment\n",
        "            next_state, reward, done = env.step(action)\n",
        "\n",
        "            # Update the value function using TD(0)\n",
        "            V[state] += alpha * (reward + gamma * V[next_state] - V[state])\n",
        "\n",
        "            # Move to the next state\n",
        "            state = next_state\n",
        "\n",
        "    return V"
      ],
      "metadata": {
        "id": "e8D-AKEn4Tj5"
      },
      "execution_count": 37,
      "outputs": []
    },
    {
      "cell_type": "code",
      "source": [
        "# Run the TD(0) algorithm\n",
        "value_function = td_zero(env, alpha=0.1, gamma=0.9, episodes=500)"
      ],
      "metadata": {
        "id": "BETBNwcz3KyA"
      },
      "execution_count": 38,
      "outputs": []
    },
    {
      "cell_type": "code",
      "source": [
        "# Display the results\n",
        "print(\"Value Function:\")\n",
        "for state, value in value_function.items():\n",
        "    print(f\"State {state}: {value:.2f}\")"
      ],
      "metadata": {
        "colab": {
          "base_uri": "https://localhost:8080/"
        },
        "id": "hU6YzU4l3K0A",
        "outputId": "3d7cd8e7-074c-42dd-dfc1-4a3c7f9b3f8a"
      },
      "execution_count": 39,
      "outputs": [
        {
          "output_type": "stream",
          "name": "stdout",
          "text": [
            "Value Function:\n",
            "State 1: 0.31\n",
            "State 2: 0.38\n",
            "State 3: 0.54\n",
            "State 4: 0.76\n",
            "State 5: 0.00\n"
          ]
        }
      ]
    },
    {
      "cell_type": "code",
      "source": [
        "import matplotlib.pyplot as plt\n",
        "\n",
        "states = list(value_function.keys())\n",
        "values = list(value_function.values())\n",
        "\n",
        "plt.bar(states, values, color='skyblue')\n",
        "plt.xlabel(\"States\")\n",
        "plt.ylabel(\"Value Function\")\n",
        "plt.title(\"Value Function after TD(0) Training\")\n",
        "plt.show()\n"
      ],
      "metadata": {
        "colab": {
          "base_uri": "https://localhost:8080/",
          "height": 472
        },
        "id": "byzILEGN2aVl",
        "outputId": "1022e113-b4aa-4282-cd78-9f3e7cc12acd"
      },
      "execution_count": 40,
      "outputs": [
        {
          "output_type": "display_data",
          "data": {
            "text/plain": [
              "<Figure size 640x480 with 1 Axes>"
            ],
            "image/png": "[encoded data removed]"
          },
          "metadata": {}
        }
      ]
    }
  ]
}