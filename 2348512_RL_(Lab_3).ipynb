{
  "nbformat": 4,
  "nbformat_minor": 0,
  "metadata": {
    "colab": {
      "provenance": []
    },
    "kernelspec": {
      "name": "python3",
      "display_name": "Python 3"
    },
    "language_info": {
      "name": "python"
    }
  },
  "cells": [
    {
      "cell_type": "code",
      "execution_count": 2,
      "metadata": {
        "id": "543nrzQRnPWt"
      },
      "outputs": [],
      "source": [
        "import numpy as np"
      ]
    },
    {
      "cell_type": "code",
      "source": [
        "# Define the grid world dimensions\n",
        "rows = 3\n",
        "cols = 4"
      ],
      "metadata": {
        "id": "UD5jkkaMnoVt"
      },
      "execution_count": 4,
      "outputs": []
    },
    {
      "cell_type": "code",
      "source": [
        "# Define the reward values for each cell\n",
        "rewards = np.array([[0, 0, 0, 1],\n",
        "                    [0, np.nan, 0, -1],\n",
        "                    [0, 0, 0, 0]])\n"
      ],
      "metadata": {
        "id": "ApLBU1wAoMfF"
      },
      "execution_count": 5,
      "outputs": []
    },
    {
      "cell_type": "code",
      "source": [
        "\n",
        "# Define the possible actions (up, down, left, right)\n",
        "actions = [(0, 1), (0, -1), (-1, 0), (1, 0)]\n"
      ],
      "metadata": {
        "id": "j1Dn0BsqoMhq"
      },
      "execution_count": 6,
      "outputs": []
    },
    {
      "cell_type": "code",
      "source": [
        "# Define the discount factor\n",
        "gamma = 0.9\n"
      ],
      "metadata": {
        "id": "3cy6Vtx7oMkD"
      },
      "execution_count": 7,
      "outputs": []
    },
    {
      "cell_type": "code",
      "source": [
        "# Define the transition probabilities\n",
        "# Assuming deterministic transitions for simplicity\n",
        "def step(state, action):\n",
        "    new_state = (state[0] + action[0], state[1] + action[1])\n",
        "\n",
        "    if new_state[0] < 0 or new_state[0] >= rows or new_state[1] < 0 or new_state[1] >= cols:\n",
        "        new_state = state  # if the new state is out of bounds, stay in the same state\n",
        "\n",
        "    reward = rewards[new_state[0]][new_state[1]]\n",
        "\n",
        "    return new_state, reward\n"
      ],
      "metadata": {
        "id": "9RZ5OdydoMmW"
      },
      "execution_count": 8,
      "outputs": []
    },
    {
      "cell_type": "code",
      "source": [
        "# Initialize the value function\n",
        "V = np.zeros((rows, cols))"
      ],
      "metadata": {
        "id": "d-5rJlMtoMo6"
      },
      "execution_count": 9,
      "outputs": []
    },
    {
      "cell_type": "code",
      "source": [
        "# Implement Value Iteration to find the optimal value function\n",
        "def value_iteration():\n",
        "    epsilon = 1e-4\n",
        "    max_iterations = 1000\n",
        "\n",
        "    for _ in range(max_iterations):\n",
        "        delta = 0\n",
        "        for i in range(rows):\n",
        "            for j in range(cols):\n",
        "                if not np.isnan(rewards[i][j]):\n",
        "                    v = V[i][j]\n",
        "                    max_value = float('-inf')\n",
        "                    for action in actions:\n",
        "                        new_state, reward = step((i, j), action)\n",
        "                        new_value = reward + gamma * V[new_state[0]][new_state[1]]\n",
        "                        max_value = max(max_value, new_value)\n",
        "                    V[i][j] = max_value\n",
        "                    delta = max(delta, abs(v - V[i][j]))\n",
        "\n",
        "        if delta < epsilon:\n",
        "            break"
      ],
      "metadata": {
        "id": "A2D6R_E2oMr7"
      },
      "execution_count": 10,
      "outputs": []
    },
    {
      "cell_type": "code",
      "source": [
        "# Run the value iteration\n",
        "value_iteration()\n"
      ],
      "metadata": {
        "id": "Yy5jSCWaoMuL"
      },
      "execution_count": 11,
      "outputs": []
    },
    {
      "cell_type": "code",
      "source": [
        "# Print the optimal value function\n",
        "print(\"Optimal Value Function:\")\n",
        "print(V)"
      ],
      "metadata": {
        "colab": {
          "base_uri": "https://localhost:8080/"
        },
        "id": "3d1HxJoxoaRf",
        "outputId": "a59195ee-62e0-4456-f24d-0604113804ac"
      },
      "execution_count": 12,
      "outputs": [
        {
          "output_type": "stream",
          "name": "stdout",
          "text": [
            "Optimal Value Function:\n",
            "[[8.09915359 8.99915359 9.99915359 9.99915359]\n",
            " [7.28923823 0.         8.99923823 9.99923823]\n",
            " [6.5603144  7.2893144  8.0993144  7.9993144 ]]\n"
          ]
        }
      ]
    },
    {
      "cell_type": "code",
      "source": [
        "# Visualize the optimal value function using a heatmap\n",
        "plt.figure(figsize=(8, 6))\n",
        "plt.imshow(V, cmap='hot', interpolation='nearest')\n",
        "plt.title('Optimal Value Function')\n",
        "for i in range(rows):\n",
        "    for j in range(cols):\n",
        "        plt.text(j, i, round(V[i, j], 2), ha='center', va='center', color='black')\n",
        "plt.colorbar()\n",
        "plt.xticks(range(cols))\n",
        "plt.yticks(range(rows))\n",
        "plt.show()"
      ],
      "metadata": {
        "colab": {
          "base_uri": "https://localhost:8080/",
          "height": 507
        },
        "id": "pei770YGqILU",
        "outputId": "bf6d9780-24d4-4683-a2d8-24baf629c4e8"
      },
      "execution_count": 19,
      "outputs": [
        {
          "output_type": "display_data",
          "data": {
            "text/plain": [
              "<Figure size 800x600 with 2 Axes>"
            ],
            "image/png": "[encoded data removed]"
          },
          "metadata": {}
        }
      ]
    },
    {
      "cell_type": "code",
      "source": [
        "# Extract and print the optimal policy\n",
        "def extract_policy():\n",
        "    policy = [['' for _ in range(cols)] for _ in range(rows)]\n",
        "\n",
        "    for i in range(rows):\n",
        "        for j in range(cols):\n",
        "            if not np.isnan(rewards[i][j]):\n",
        "                max_value = float('-inf')\n",
        "                best_action = None\n",
        "                for idx, action in enumerate(actions):\n",
        "                    new_state, reward = step((i, j), action)\n",
        "                    new_value = reward + gamma * V[new_state[0]][new_state[1]]\n",
        "                    if new_value > max_value:\n",
        "                        max_value = new_value\n",
        "                        best_action = actions[idx]\n",
        "\n",
        "                if best_action == (0, 1):\n",
        "                    policy[i][j] = 'R'\n",
        "                elif best_action == (0, -1):\n",
        "                    policy[i][j] = 'L'\n",
        "                elif best_action == (-1, 0):\n",
        "                    policy[i][j] = 'U'\n",
        "                elif best_action == (1, 0):\n",
        "                    policy[i][j] = 'D'\n",
        "\n",
        "    return policy"
      ],
      "metadata": {
        "id": "7E_b0t-MoaUZ"
      },
      "execution_count": 13,
      "outputs": []
    },
    {
      "cell_type": "code",
      "source": [
        "# Print the optimal policy\n",
        "policy = extract_policy()\n",
        "print(\"\\nOptimal Policy:\")\n",
        "for row in policy:\n",
        "    print(row)"
      ],
      "metadata": {
        "colab": {
          "base_uri": "https://localhost:8080/"
        },
        "id": "i3IPLkhzoaWw",
        "outputId": "7efe1169-f8d5-4344-f127-d8e9043e1a70"
      },
      "execution_count": 14,
      "outputs": [
        {
          "output_type": "stream",
          "name": "stdout",
          "text": [
            "\n",
            "Optimal Policy:\n",
            "['R', 'R', 'R', 'R']\n",
            "['U', '', 'U', 'U']\n",
            "['R', 'R', 'U', 'U']\n"
          ]
        }
      ]
    },
    {
      "cell_type": "code",
      "source": [
        "policy = ['R', 'R', 'R', 'R']\n",
        "['U', '', 'U', 'U']\n",
        "['R', 'R', 'U', 'U']\n",
        "\n",
        "# Prepare the data for visualization\n",
        "actions_count = {'U': 0, 'D': 0, 'L': 0, 'R': 0}\n",
        "for row in policy:\n",
        "    for action in row:\n",
        "        if action:  # Exclude empty actions (if any)\n",
        "            actions_count[action] += 1\n",
        "\n",
        "actions = list(actions_count.keys())\n",
        "counts = list(actions_count.values())\n",
        "\n"
      ],
      "metadata": {
        "id": "i8KPAjSNqStR"
      },
      "execution_count": 22,
      "outputs": []
    },
    {
      "cell_type": "code",
      "source": [
        "# Visualize the optimal policy using a bar graph\n",
        "plt.figure(figsize=(8, 6))\n",
        "plt.bar(actions, counts, color=['blue', 'green', 'red', 'orange'])\n",
        "plt.title('Optimal Policy Distribution')\n",
        "plt.xlabel('Actions')\n",
        "plt.ylabel('Frequency')\n",
        "plt.show()"
      ],
      "metadata": {
        "colab": {
          "base_uri": "https://localhost:8080/",
          "height": 564
        },
        "id": "IHg5JHYapkvn",
        "outputId": "05d300ae-4df7-413a-fda9-6f9ade0871d5"
      },
      "execution_count": 23,
      "outputs": [
        {
          "output_type": "display_data",
          "data": {
            "text/plain": [
              "<Figure size 800x600 with 1 Axes>"
            ],
            "image/png": "[encoded data removed]"
          },
          "metadata": {}
        }
      ]
    }
  ]
}