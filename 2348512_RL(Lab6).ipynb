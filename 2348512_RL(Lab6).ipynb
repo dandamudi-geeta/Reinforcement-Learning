{
  "nbformat": 4,
  "nbformat_minor": 0,
  "metadata": {
    "colab": {
      "provenance": [],
      "authorship_tag": "ABX9TyOQ58GCQ6B/3GM+PYBb4nSI",
      "include_colab_link": true
    },
    "kernelspec": {
      "name": "python3",
      "display_name": "Python 3"
    },
    "language_info": {
      "name": "python"
    }
  },
  "cells": [
    {
      "cell_type": "markdown",
      "metadata": {
        "id": "view-in-github",
        "colab_type": "text"
      },
      "source": [
        "<a href=\"https://colab.research.google.com/github/dandamudi-geeta/Reinforcement-Learning/blob/main/2348512_RL(Lab6).ipynb\" target=\"_parent\"><img src=\"https://colab.research.google.com/assets/colab-badge.svg\" alt=\"Open In Colab\"/></a>"
      ]
    },
    {
      "cell_type": "code",
      "execution_count": 7,
      "metadata": {
        "colab": {
          "base_uri": "https://localhost:8080/"
        },
        "id": "XZIpLZ9tbcb0",
        "outputId": "79a3c473-7ee2-455a-e9cd-2252b9462e5b"
      },
      "outputs": [
        {
          "output_type": "stream",
          "name": "stdout",
          "text": [
            "Requirement already satisfied: gym in /usr/local/lib/python3.10/dist-packages (0.25.2)\n",
            "Requirement already satisfied: numpy in /usr/local/lib/python3.10/dist-packages (1.26.4)\n",
            "Requirement already satisfied: matplotlib in /usr/local/lib/python3.10/dist-packages (3.8.0)\n",
            "Requirement already satisfied: cloudpickle>=1.2.0 in /usr/local/lib/python3.10/dist-packages (from gym) (3.1.0)\n",
            "Requirement already satisfied: gym_notices>=0.0.4 in /usr/local/lib/python3.10/dist-packages (from gym) (0.0.8)\n",
            "Requirement already satisfied: contourpy>=1.0.1 in /usr/local/lib/python3.10/dist-packages (from matplotlib) (1.3.1)\n",
            "Requirement already satisfied: cycler>=0.10 in /usr/local/lib/python3.10/dist-packages (from matplotlib) (0.12.1)\n",
            "Requirement already satisfied: fonttools>=4.22.0 in /usr/local/lib/python3.10/dist-packages (from matplotlib) (4.55.0)\n",
            "Requirement already satisfied: kiwisolver>=1.0.1 in /usr/local/lib/python3.10/dist-packages (from matplotlib) (1.4.7)\n",
            "Requirement already satisfied: packaging>=20.0 in /usr/local/lib/python3.10/dist-packages (from matplotlib) (24.2)\n",
            "Requirement already satisfied: pillow>=6.2.0 in /usr/local/lib/python3.10/dist-packages (from matplotlib) (11.0.0)\n",
            "Requirement already satisfied: pyparsing>=2.3.1 in /usr/local/lib/python3.10/dist-packages (from matplotlib) (3.2.0)\n",
            "Requirement already satisfied: python-dateutil>=2.7 in /usr/local/lib/python3.10/dist-packages (from matplotlib) (2.8.2)\n",
            "Requirement already satisfied: six>=1.5 in /usr/local/lib/python3.10/dist-packages (from python-dateutil>=2.7->matplotlib) (1.16.0)\n"
          ]
        }
      ],
      "source": [
        "! pip install gym numpy matplotlib"
      ]
    },
    {
      "cell_type": "code",
      "source": [
        "import numpy as np\n",
        "import gym\n",
        "from gym import spaces\n",
        "\n",
        "# Define a custom RL environment\n",
        "class SimpleEnv(gym.Env):\n",
        "    \"\"\"\n",
        "    A simple custom environment for model-based RL.\n",
        "    State: A single integer in {0, 1, 2, 3, 4}.\n",
        "    Action: Either move left (-1) or right (+1).\n",
        "    Reward: +1 for reaching state 4; -1 for reaching state 0.\n",
        "    \"\"\"\n",
        "    def __init__(self):\n",
        "        super(SimpleEnv, self).__init__()\n",
        "        self.state_space = 5  # States: {0, 1, 2, 3, 4}\n",
        "        self.action_space = spaces.Discrete(2)  # Actions: {0 (left), 1 (right)}\n",
        "        self.observation_space = spaces.Discrete(self.state_space)\n",
        "        self.current_state = 2  # Start at the middle state\n",
        "\n",
        "    def reset(self):\n",
        "        self.current_state = 2\n",
        "        return self.current_state\n",
        "\n",
        "    def step(self, action):\n",
        "        # Map action to movement (-1 for left, +1 for right)\n",
        "        move = -1 if action == 0 else 1\n",
        "        self.current_state += move\n",
        "\n",
        "        # Clamp the state to the valid range [0, 4]\n",
        "        self.current_state = np.clip(self.current_state, 0, 4)\n",
        "\n",
        "        # Compute the reward\n",
        "        if self.current_state == 4:\n",
        "            reward = 1  # Goal state\n",
        "        elif self.current_state == 0:\n",
        "            reward = -1  # Failure state\n",
        "        else:\n",
        "            reward = 0  # Neutral state\n",
        "\n",
        "        done = self.current_state in [0, 4]  # Episode ends at state 0 or 4\n",
        "        return self.current_state, reward, done, {}\n",
        "\n",
        "    def render(self):\n",
        "        print(f\"Current state: {self.current_state}\")\n",
        "\n",
        "# Instantiate the custom environment\n",
        "env = SimpleEnv()\n"
      ],
      "metadata": {
        "id": "mDHotwmQe4T3"
      },
      "execution_count": 36,
      "outputs": []
    },
    {
      "cell_type": "code",
      "source": [
        "# Define a simple dynamics model\n",
        "class DynamicsModel:\n",
        "    def __init__(self):\n",
        "        # Placeholder for learned dynamics model (state, action -> next_state, reward)\n",
        "        self.transition_table = {}\n",
        "\n",
        "    def update(self, state, action, next_state, reward):\n",
        "        self.transition_table[(state, action)] = (next_state, reward)\n",
        "\n",
        "    def predict(self, state, action):\n",
        "        # Predict next state and reward using the learned model\n",
        "        return self.transition_table.get((state, action), (state, 0))  # Default: no change, reward=0\n",
        "\n",
        "# Implement Model-Based Planning\n",
        "def model_based_planning(env, model, num_episodes=10):\n",
        "    for episode in range(num_episodes):\n",
        "        state = env.reset()\n",
        "        done = False\n",
        "        while not done:\n",
        "            # Use the dynamics model to simulate possible outcomes\n",
        "            action_values = []\n",
        "            for action in range(env.action_space.n):\n",
        "                predicted_state, predicted_reward = model.predict(state, action)\n",
        "                action_values.append(predicted_reward)  # Simple planning: based only on immediate reward\n",
        "\n",
        "            # Choose the best action based on simulated outcomes\n",
        "            best_action = np.argmax(action_values)\n",
        "\n",
        "            # Take the action in the actual environment\n",
        "            next_state, reward, done, _ = env.step(best_action)\n",
        "\n",
        "            # Update the model with the observed transition\n",
        "            model.update(state, best_action, next_state, reward)\n",
        "\n",
        "            # Print environment state\n",
        "            env.render()\n",
        "\n",
        "# Initialize the dynamics model and run planning\n",
        "model = DynamicsModel()\n",
        "model_based_planning(env, model)\n"
      ],
      "metadata": {
        "colab": {
          "base_uri": "https://localhost:8080/"
        },
        "id": "hRtzOZygfB4f",
        "outputId": "0da733e1-162b-47c6-8563-0a9e30d0e829"
      },
      "execution_count": 37,
      "outputs": [
        {
          "output_type": "stream",
          "name": "stdout",
          "text": [
            "Current state: 1\n",
            "Current state: 0\n",
            "Current state: 3\n",
            "Current state: 4\n",
            "Current state: 3\n",
            "Current state: 4\n",
            "Current state: 3\n",
            "Current state: 4\n",
            "Current state: 3\n",
            "Current state: 4\n",
            "Current state: 3\n",
            "Current state: 4\n",
            "Current state: 3\n",
            "Current state: 4\n",
            "Current state: 3\n",
            "Current state: 4\n",
            "Current state: 3\n",
            "Current state: 4\n",
            "Current state: 3\n",
            "Current state: 4\n"
          ]
        }
      ]
    },
    {
      "cell_type": "code",
      "source": [],
      "metadata": {
        "id": "LibfoAX9fFNF"
      },
      "execution_count": null,
      "outputs": []
    }
  ]
}