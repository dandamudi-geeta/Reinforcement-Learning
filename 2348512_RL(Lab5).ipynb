{
  "nbformat": 4,
  "nbformat_minor": 0,
  "metadata": {
    "colab": {
      "provenance": [],
      "authorship_tag": "ABX9TyPIw9T/CyJZ2iuDOXiSUby5",
      "include_colab_link": true
    },
    "kernelspec": {
      "name": "python3",
      "display_name": "Python 3"
    },
    "language_info": {
      "name": "python"
    }
  },
  "cells": [
    {
      "cell_type": "markdown",
      "metadata": {
        "id": "view-in-github",
        "colab_type": "text"
      },
      "source": [
        "<a href=\"https://colab.research.google.com/github/dandamudi-geeta/Reinforcement-Learning/blob/main/2348512_RL(Lab5).ipynb\" target=\"_parent\"><img src=\"https://colab.research.google.com/assets/colab-badge.svg\" alt=\"Open In Colab\"/></a>"
      ]
    },
    {
      "cell_type": "code",
      "source": [
        "import gym\n",
        "import numpy as np\n",
        "from collections import defaultdict"
      ],
      "metadata": {
        "id": "VxVnCnQp50Zz"
      },
      "execution_count": null,
      "outputs": []
    },
    {
      "cell_type": "code",
      "source": [
        "# Create the Blackjack environment\n",
        "env = gym.make('Blackjack-v1')"
      ],
      "metadata": {
        "colab": {
          "base_uri": "https://localhost:8080/"
        },
        "id": "goFo5sT-6VpY",
        "outputId": "61a0044f-2639-4295-e8fc-a1979fda83f2"
      },
      "execution_count": null,
      "outputs": [
        {
          "output_type": "stream",
          "name": "stderr",
          "text": [
            "/usr/local/lib/python3.10/dist-packages/gym/core.py:317: DeprecationWarning: \u001b[33mWARN: Initializing wrapper in old step API which returns one bool instead of two. It is recommended to set `new_step_api=True` to use new step API. This will be the default behaviour in future.\u001b[0m\n",
            "  deprecation(\n",
            "/usr/local/lib/python3.10/dist-packages/gym/wrappers/step_api_compatibility.py:39: DeprecationWarning: \u001b[33mWARN: Initializing environment in old step API which returns one bool instead of two. It is recommended to set `new_step_api=True` to use new step API. This will be the default behaviour in future.\u001b[0m\n",
            "  deprecation(\n"
          ]
        }
      ]
    },
    {
      "cell_type": "code",
      "source": [
        "def generate_episode(env, policy):\n",
        "    \"\"\"\n",
        "    Generate an episode following the given policy.\n",
        "    Returns a list of (state, action, reward) tuples.\n",
        "    \"\"\"\n",
        "    episode = []\n",
        "    state = env.reset()\n",
        "    while True:\n",
        "        action = policy(state)\n",
        "        next_state, reward, done, _ = env.step(action)\n",
        "        episode.append((state, action, reward))\n",
        "        if done:\n",
        "            break\n",
        "        state = next_state\n",
        "    return episode"
      ],
      "metadata": {
        "id": "B6n5Eb9N6X3W"
      },
      "execution_count": null,
      "outputs": []
    },
    {
      "cell_type": "code",
      "source": [
        "def mc_prediction(policy, env, num_episodes, gamma=1.0):\n",
        "    \"\"\"\n",
        "    Monte Carlo prediction to estimate the state-value function V(s) under the given policy.\n",
        "    \"\"\"\n",
        "    returns_sum = defaultdict(float)\n",
        "    returns_count = defaultdict(float)\n",
        "    V = defaultdict(float)\n",
        "\n",
        "    for _ in range(num_episodes):\n",
        "        episode = generate_episode(env, policy)\n",
        "        G = 0  # Initialize the return\n",
        "        for t in reversed(range(len(episode))):\n",
        "            state, _, reward = episode[t]\n",
        "            G = gamma * G + reward\n",
        "            if state not in [x[0] for x in episode[:t]]:\n",
        "                returns_sum[state] += G\n",
        "                returns_count[state] += 1.0\n",
        "                V[state] = returns_sum[state] / returns_count[state]\n",
        "    return V"
      ],
      "metadata": {
        "id": "Vuk19Yj46X6D"
      },
      "execution_count": null,
      "outputs": []
    },
    {
      "cell_type": "code",
      "source": [
        "# Define the number of episodes\n",
        "num_episodes = 5000\n",
        "epsilon = 0.1"
      ],
      "metadata": {
        "id": "x_UnoATr7BeF"
      },
      "execution_count": 31,
      "outputs": []
    },
    {
      "cell_type": "code",
      "source": [
        "def mc_control_epsilon_greedy(env, num_episodes, gamma=1.0, epsilon=0.1):\n",
        "    \"\"\"\n",
        "    Monte Carlo control using epsilon-greedy policy to find the optimal policy and action-value function Q(s, a).\n",
        "    \"\"\"\n",
        "    Q = defaultdict(lambda: np.zeros(env.action_space.n))\n",
        "    returns_sum = defaultdict(float)\n",
        "    returns_count = defaultdict(float)\n",
        "\n",
        "    def epsilon_greedy_policy(state, epsilon):\n",
        "        \"\"\"Epsilon-greedy policy.\"\"\"\n",
        "        if np.random.rand() < epsilon:\n",
        "            return env.action_space.sample()  # Explore\n",
        "        else:\n",
        "            return np.argmax(Q[state])  # Exploit\n",
        "\n",
        "    for _ in range(num_episodes):\n",
        "        # Generate an episode using the epsilon-greedy policy\n",
        "        episode = []\n",
        "        state = env.reset()\n",
        "        while True:\n",
        "            action = epsilon_greedy_policy(state, epsilon)\n",
        "            next_state, reward, done, _ = env.step(action)\n",
        "            episode.append((state, action, reward))\n",
        "            if done:\n",
        "                break\n",
        "            state = next_state\n",
        "\n",
        "        G = 0  # Initialize the return\n",
        "        for t in reversed(range(len(episode))):\n",
        "            state, action, reward = episode[t]\n",
        "            G = gamma * G + reward\n",
        "            if (state, action) not in [(x[0], x[1]) for x in episode[:t]]:\n",
        "                returns_sum[(state, action)] += G\n",
        "                returns_count[(state, action)] += 1.0\n",
        "                Q[state][action] = returns_sum[(state, action)] / returns_count[(state, action)]\n",
        "\n",
        "    # Derive the optimal policy from Q\n",
        "    optimal_policy = {state: np.argmax(action_values) for state, action_values in Q.items()}\n",
        "    return optimal_policy, Q  # Ensure this return is properly indented\n"
      ],
      "metadata": {
        "id": "wsCKUg_VCKfW"
      },
      "execution_count": 58,
      "outputs": []
    },
    {
      "cell_type": "code",
      "source": [
        "# Run Monte Carlo Control\n",
        "optimal_policy, Q = mc_control_epsilon_greedy(env, num_episodes, epsilon=epsilon)"
      ],
      "metadata": {
        "colab": {
          "base_uri": "https://localhost:8080/"
        },
        "id": "8H7hOC1rCdFN",
        "outputId": "d74eb35a-688b-456c-bef3-2a0591e7b8b5"
      },
      "execution_count": 59,
      "outputs": [
        {
          "output_type": "stream",
          "name": "stderr",
          "text": [
            "/usr/local/lib/python3.10/dist-packages/gym/utils/passive_env_checker.py:241: DeprecationWarning: `np.bool8` is a deprecated alias for `np.bool_`.  (Deprecated NumPy 1.24)\n",
            "  if not isinstance(terminated, (bool, np.bool8)):\n"
          ]
        }
      ]
    },
    {
      "cell_type": "code",
      "source": [
        "# Display the Optimal Policy\n",
        "print(\"\\nOptimal Policy Derived from Q:\")\n",
        "for state, action in list(optimal_policy.items())[:10]:  # Display a subset of the results\n",
        "    print(f\"State: {state}, Action: {action}\")"
      ],
      "metadata": {
        "colab": {
          "base_uri": "https://localhost:8080/"
        },
        "id": "PXecoRm8Cj1b",
        "outputId": "6d12dadf-6472-4a93-a5cd-90f7f8b1d767"
      },
      "execution_count": 60,
      "outputs": [
        {
          "output_type": "stream",
          "name": "stdout",
          "text": [
            "\n",
            "Optimal Policy Derived from Q:\n",
            "State: (21, 10, True), Action: 0\n",
            "State: (11, 8, False), Action: 1\n",
            "State: (20, 2, False), Action: 0\n",
            "State: (18, 5, False), Action: 0\n",
            "State: (16, 9, False), Action: 0\n",
            "State: (14, 10, False), Action: 1\n",
            "State: (20, 1, False), Action: 0\n",
            "State: (17, 10, True), Action: 1\n",
            "State: (20, 10, False), Action: 0\n",
            "State: (12, 2, False), Action: 1\n"
          ]
        }
      ]
    }
  ]
}